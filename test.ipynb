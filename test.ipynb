{
 "cells": [
  {
   "cell_type": "code",
   "execution_count": 4,
   "metadata": {},
   "outputs": [
    {
     "name": "stdout",
     "output_type": "stream",
     "text": [
      "      번호        DATE  CAPE(180K)  KAMSARMAX(82K)  ULTRAMAX(64K)  HANDY(33K)\n",
      "0    539  2024-09-05       74.28           38.28          35.73       31.33\n",
      "1    538  2024-08-29       74.16           38.15          35.35       31.28\n",
      "2    537  2024-08-22       74.17           38.18          35.37       31.31\n",
      "3    536  2024-08-15       73.68           38.00          35.04       31.52\n",
      "4    535  2024-08-08       73.91           37.82          35.22       31.44\n",
      "..   ...         ...         ...             ...            ...         ...\n",
      "534    5  2014-02-13       55.83           30.17          28.27       22.93\n",
      "535    4  2014-02-06       55.25           30.25          28.15       22.90\n",
      "536    3  2014-01-23       54.75           29.75          27.65       22.63\n",
      "537    2  2014-01-16       54.25           29.75          27.65       22.63\n",
      "538    1  2014-01-09       53.75           29.20          27.50       22.25\n",
      "\n",
      "[539 rows x 6 columns]\n"
     ]
    }
   ],
   "source": [
    "import pandas as pd\n",
    "\n",
    "file_path = '/workspace/youngwoo/LLM/resource/BULKER.xls' \n",
    "df = pd.read_excel(file_path, skiprows=1, engine='xlrd')\n",
    "\n",
    "print(df)"
   ]
  },
  {
   "cell_type": "code",
   "execution_count": null,
   "metadata": {},
   "outputs": [],
   "source": [
    "df = df.drop(columns=['번호'])\n",
    "df = df.set_index('DATE')\n",
    "\n",
    "print(df)"
   ]
  },
  {
   "cell_type": "code",
   "execution_count": 7,
   "metadata": {},
   "outputs": [
    {
     "name": "stdout",
     "output_type": "stream",
     "text": [
      "            CAPE(180K)  KAMSARMAX(82K)  ULTRAMAX(64K)  HANDY(33K)\n",
      "DATE                                                             \n",
      "2024-09-05       74.28           38.28          35.73       31.33\n",
      "2024-08-29       74.16           38.15          35.35       31.28\n",
      "2024-08-22       74.17           38.18          35.37       31.31\n",
      "2024-08-15       73.68           38.00          35.04       31.52\n",
      "2024-08-08       73.91           37.82          35.22       31.44\n",
      "...                ...             ...            ...         ...\n",
      "2014-02-13       55.83           30.17          28.27       22.93\n",
      "2014-02-06       55.25           30.25          28.15       22.90\n",
      "2014-01-23       54.75           29.75          27.65       22.63\n",
      "2014-01-16       54.25           29.75          27.65       22.63\n",
      "2014-01-09       53.75           29.20          27.50       22.25\n",
      "\n",
      "[539 rows x 4 columns]\n"
     ]
    }
   ],
   "source": [
    "\n",
    "print(df)"
   ]
  },
  {
   "cell_type": "code",
   "execution_count": 14,
   "metadata": {},
   "outputs": [
    {
     "name": "stdout",
     "output_type": "stream",
     "text": [
      "Index(['CAPE(180K)', 'KAMSARMAX(82K)', 'ULTRAMAX(64K)', 'HANDY(33K)'], dtype='object')\n"
     ]
    }
   ],
   "source": [
    "print(df.columns)"
   ]
  },
  {
   "cell_type": "code",
   "execution_count": 20,
   "metadata": {},
   "outputs": [
    {
     "name": "stdout",
     "output_type": "stream",
     "text": [
      "Rows where the difference is not 7 or 14 days and their Date_Diff values:\n",
      "             Date_Diff\n",
      "DATE                 \n",
      "2024-09-05        NaN\n",
      "2019-12-19      -21.0\n",
      "2018-02-14       -8.0\n",
      "2018-02-08       -6.0\n",
      "2016-05-27       -6.0\n",
      "2015-12-18      -21.0\n",
      "2015-10-08       -8.0\n",
      "2015-09-18       -6.0\n",
      "2015-04-30       -8.0\n",
      "2015-04-24       -6.0\n",
      "2014-12-18      -22.0\n"
     ]
    }
   ],
   "source": [
    "\n",
    "df.index = pd.to_datetime(df.index)\n",
    "\n",
    "df['Date_Diff'] = df.index.to_series().diff().dt.days\n",
    "\n",
    "non_weekly_rows = df[(df['Date_Diff'] != -7) & (df['Date_Diff'] != -14)]\n",
    "print(\"Rows where the difference is not 7 or 14 days and their Date_Diff values:\\n\", non_weekly_rows[['Date_Diff']])"
   ]
  },
  {
   "cell_type": "code",
   "execution_count": 21,
   "metadata": {},
   "outputs": [
    {
     "name": "stdout",
     "output_type": "stream",
     "text": [
      "            VLCC(320K)  SUEZMAX(160K)  AFRAMAX(110K)  LR2(110K)  LR1(74K)  \\\n",
      "DATE                                                                        \n",
      "2024-09-05      127.00          85.65          72.40      73.97     60.20   \n",
      "2024-08-29      127.00          85.73          72.57      74.29     60.20   \n",
      "2024-08-22      127.00          85.63          72.50      74.21     60.20   \n",
      "2024-08-15      127.00          85.42          72.50      74.08     60.67   \n",
      "2024-08-08      126.00          84.99          72.36      73.92     58.17   \n",
      "...                ...            ...            ...        ...       ...   \n",
      "2014-08-14       98.25          65.00          54.00      57.00     45.50   \n",
      "2014-08-07       98.50          65.00          54.00      57.00     45.50   \n",
      "2014-01-16       97.25          65.10          54.00      57.00     46.00   \n",
      "2014-01-09       97.25          65.10          54.00      57.00     46.00   \n",
      "2014-01-02       97.25          65.25          54.00      57.00     46.00   \n",
      "\n",
      "            MR(50K)  \n",
      "DATE                 \n",
      "2024-09-05    49.57  \n",
      "2024-08-29    49.57  \n",
      "2024-08-22    49.43  \n",
      "2024-08-15    49.75  \n",
      "2024-08-08    48.30  \n",
      "...             ...  \n",
      "2014-08-14    36.50  \n",
      "2014-08-07    36.50  \n",
      "2014-01-16    36.50  \n",
      "2014-01-09    36.50  \n",
      "2014-01-02    36.50  \n",
      "\n",
      "[517 rows x 6 columns]\n"
     ]
    }
   ],
   "source": [
    "import pandas as pd\n",
    "\n",
    "file_path = '/workspace/youngwoo/LLM/resource/TANKER.xls' \n",
    "df_2 = pd.read_excel(file_path, skiprows=1, engine='xlrd')\n",
    "df_2 = df_2.drop(columns=['번호'])\n",
    "df_2 = df_2.set_index('DATE')\n",
    "\n",
    "print(df_2)\n"
   ]
  },
  {
   "cell_type": "code",
   "execution_count": 24,
   "metadata": {},
   "outputs": [
    {
     "data": {
      "text/plain": [
       "Index(['VLCC(320K)', 'SUEZMAX(160K)', 'AFRAMAX(110K)', 'LR2(110K)', 'LR1(74K)',\n",
       "       'MR(50K)', 'Date_Diff'],\n",
       "      dtype='object')"
      ]
     },
     "execution_count": 24,
     "metadata": {},
     "output_type": "execute_result"
    }
   ],
   "source": [
    "df_2.columns"
   ]
  },
  {
   "cell_type": "code",
   "execution_count": 23,
   "metadata": {},
   "outputs": [
    {
     "name": "stdout",
     "output_type": "stream",
     "text": [
      "Rows where the difference is not 7 or 14 days and their Date_Diff values:\n",
      "             Date_Diff\n",
      "DATE                 \n",
      "2024-09-05        NaN\n",
      "2019-12-19      -21.0\n",
      "2016-05-27       -6.0\n",
      "2016-05-12       -8.0\n",
      "2016-05-04       -8.0\n",
      "2016-04-28       -6.0\n",
      "2016-01-29       -6.0\n",
      "2015-12-18      -21.0\n",
      "2015-12-03       -8.0\n",
      "2015-10-07       -8.0\n",
      "2015-10-01       -6.0\n",
      "2015-09-23       -8.0\n",
      "2015-09-18       -5.0\n",
      "2014-12-19      -35.0\n",
      "2014-08-28       -8.0\n",
      "2014-01-16     -203.0\n"
     ]
    }
   ],
   "source": [
    "\n",
    "df_2.index = pd.to_datetime(df_2.index)\n",
    "\n",
    "df_2['Date_Diff'] = df_2.index.to_series().diff().dt.days\n",
    "\n",
    "non_weekly_rows = df_2[(df_2['Date_Diff'] != -7) & (df_2['Date_Diff'] != -14)]\n",
    "\n",
    "print(\"Rows where the difference is not 7 or 14 days and their Date_Diff values:\\n\", non_weekly_rows[['Date_Diff']])"
   ]
  },
  {
   "cell_type": "code",
   "execution_count": 25,
   "metadata": {},
   "outputs": [
    {
     "name": "stdout",
     "output_type": "stream",
     "text": [
      "            VLCC(320K)-RESALE  VLCC(320K)-5Y  VLCC(320K)-10Y  \\\n",
      "DATE                                                           \n",
      "2024-09-05              143.0         114.00           84.65   \n",
      "2024-08-29              143.0         114.00           84.85   \n",
      "2024-08-22              143.0         114.00           84.73   \n",
      "2024-08-15              142.0         114.00           84.92   \n",
      "2024-08-08              141.0         114.00           84.65   \n",
      "...                       ...            ...             ...   \n",
      "2014-08-22              102.0          73.67           47.67   \n",
      "2014-08-15              102.0          73.67           47.67   \n",
      "2014-08-14                0.0           0.00            0.00   \n",
      "2014-08-08              102.0          73.67           47.67   \n",
      "2014-08-07                0.0           0.00            0.00   \n",
      "\n",
      "            SUEZMAX(160K)-RESALE  SUEZMAX(160K)-5Y  SUEZMAX(160K)-10Y  \\\n",
      "DATE                                                                    \n",
      "2024-09-05                 97.47             80.57              68.98   \n",
      "2024-08-29                 97.48             80.61              68.83   \n",
      "2024-08-22                 97.49             80.50              68.85   \n",
      "2024-08-15                 97.23             79.54              68.30   \n",
      "2024-08-08                 97.02             79.93              68.76   \n",
      "...                          ...               ...                ...   \n",
      "2014-08-22                 67.33             48.67              33.10   \n",
      "2014-08-15                 67.33             48.67              33.10   \n",
      "2014-08-14                  0.00              0.00               0.00   \n",
      "2014-08-08                 67.83             48.67              33.10   \n",
      "2014-08-07                  0.00              0.00               0.00   \n",
      "\n",
      "            AFRAMAX(110K)-RESALE  AFRAMAX(110K)-5Y  AFRAMAX(110K)-10Y  \\\n",
      "DATE                                                                    \n",
      "2024-09-05                 81.71             71.90              58.99   \n",
      "2024-08-29                 81.71             71.95              59.03   \n",
      "2024-08-22                 81.74             71.99              59.07   \n",
      "2024-08-15                 80.88             72.17              59.43   \n",
      "2024-08-08                 80.28             71.84              58.90   \n",
      "...                          ...               ...                ...   \n",
      "2014-08-22                  0.00              0.00               0.00   \n",
      "2014-08-15                  0.00              0.00               0.00   \n",
      "2014-08-14                 49.67             36.17              22.83   \n",
      "2014-08-08                  0.00              0.00               0.00   \n",
      "2014-08-07                 49.67             36.17              22.83   \n",
      "\n",
      "            LR2(110K)-RESALE  LR2(110K)-5Y  LR2(110K)-10Y  LR1(75K)-RESALE  \\\n",
      "DATE                                                                         \n",
      "2024-09-05             85.80         74.04          61.09            64.43   \n",
      "2024-08-29             85.82         74.10          61.15            65.42   \n",
      "2024-08-22             85.84         74.15          61.19            64.00   \n",
      "2024-08-15             85.55         73.96          61.57            63.48   \n",
      "2024-08-08             85.40         74.24          61.05            62.94   \n",
      "...                      ...           ...            ...              ...   \n",
      "2014-08-22             53.00         37.30          24.00            44.75   \n",
      "2014-08-15              0.00          0.00           0.00             0.00   \n",
      "2014-08-14             52.00         37.00          23.00            44.75   \n",
      "2014-08-08              0.00          0.00           0.00             0.00   \n",
      "2014-08-07             50.00         37.00          23.00            44.00   \n",
      "\n",
      "            LR1(75K)-5Y  LR1(75K)-10Y  MR(50K)-RESALE  MR(50K)-5Y  MR(50K)-10Y  \n",
      "DATE                                                                            \n",
      "2024-09-05        54.47         44.53           54.75       47.15        39.57  \n",
      "2024-08-29        55.48         45.53           55.22       47.79        39.56  \n",
      "2024-08-22        54.67         44.13           54.89       47.53        39.33  \n",
      "2024-08-15        54.06         43.40           54.61       46.67        39.36  \n",
      "2024-08-08        53.50         42.86           54.21       46.98        39.08  \n",
      "...                 ...           ...             ...         ...          ...  \n",
      "2014-08-22        32.15         22.00           35.33       25.17        17.17  \n",
      "2014-08-15         0.00          0.00            0.00        0.00         0.00  \n",
      "2014-08-14        32.00         21.25           35.50       25.27        17.17  \n",
      "2014-08-08         0.00          0.00            0.00        0.00         0.00  \n",
      "2014-08-07        32.00         21.25           35.67       25.27        17.17  \n",
      "\n",
      "[525 rows x 18 columns]\n"
     ]
    }
   ],
   "source": [
    "import pandas as pd\n",
    "\n",
    "file_path = '/workspace/youngwoo/LLM/resource/중고선가/TANKER.xls' \n",
    "df_3 = pd.read_excel(file_path, skiprows=1, engine='xlrd')\n",
    "df_3 = df_3.drop(columns=['번호'])\n",
    "df_3 = df_3.set_index('DATE')\n",
    "\n",
    "print(df_3)\n"
   ]
  },
  {
   "cell_type": "code",
   "execution_count": 26,
   "metadata": {},
   "outputs": [
    {
     "name": "stdout",
     "output_type": "stream",
     "text": [
      "Rows where the difference is not 7 or 14 days and their Date_Diff values:\n",
      "             Date_Diff\n",
      "DATE                 \n",
      "2024-09-05        NaN\n",
      "2019-12-19      -21.0\n",
      "2016-05-27       -6.0\n",
      "2016-05-12       -8.0\n",
      "2016-05-04       -8.0\n",
      "2016-04-28       -6.0\n",
      "2016-01-29       -6.0\n",
      "2016-01-19       -3.0\n",
      "2016-01-15       -4.0\n",
      "2016-01-14       -1.0\n",
      "2016-01-08       -6.0\n",
      "2016-01-07       -1.0\n",
      "2015-12-18       -6.0\n",
      "2015-12-17       -1.0\n",
      "2015-12-11       -6.0\n",
      "2015-12-10       -1.0\n",
      "2015-10-07       -8.0\n",
      "2015-10-01       -6.0\n",
      "2015-09-23       -8.0\n",
      "2015-09-18       -5.0\n",
      "2015-09-17       -1.0\n",
      "2015-09-11       -6.0\n",
      "2014-12-19      -21.0\n",
      "2014-08-14       -1.0\n",
      "2014-08-08       -6.0\n",
      "2014-08-07       -1.0\n"
     ]
    }
   ],
   "source": [
    "\n",
    "df_3.index = pd.to_datetime(df_3.index)\n",
    "\n",
    "df_3['Date_Diff'] = df_3.index.to_series().diff().dt.days\n",
    "\n",
    "non_weekly_rows = df_3[(df_3['Date_Diff'] != -7) & (df_3['Date_Diff'] != -14)]\n",
    "\n",
    "print(\"Rows where the difference is not 7 or 14 days and their Date_Diff values:\\n\", non_weekly_rows[['Date_Diff']])"
   ]
  },
  {
   "cell_type": "code",
   "execution_count": null,
   "metadata": {},
   "outputs": [],
   "source": []
  }
 ],
 "metadata": {
  "kernelspec": {
   "display_name": "Python 3",
   "language": "python",
   "name": "python3"
  },
  "language_info": {
   "codemirror_mode": {
    "name": "ipython",
    "version": 3
   },
   "file_extension": ".py",
   "mimetype": "text/x-python",
   "name": "python",
   "nbconvert_exporter": "python",
   "pygments_lexer": "ipython3",
   "version": "3.10.12"
  }
 },
 "nbformat": 4,
 "nbformat_minor": 2
}
